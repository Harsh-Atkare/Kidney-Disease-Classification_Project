{
 "cells": [
  {
   "cell_type": "code",
   "execution_count": 6,
   "id": "329ed2dd",
   "metadata": {},
   "outputs": [],
   "source": [
    "# download data from gdrive\n",
    "import gdown\n",
    "\n",
    "url=\"https://drive.google.com/file/d/11OYVSuAQ_lYNHbnoJLzscQqqnkKU1cLh/view?usp=sharing\"\n",
    "url=url.split('/')[5]"
   ]
  },
  {
   "cell_type": "code",
   "execution_count": 7,
   "id": "6bc175b9",
   "metadata": {},
   "outputs": [
    {
     "data": {
      "text/plain": [
       "'11OYVSuAQ_lYNHbnoJLzscQqqnkKU1cLh'"
      ]
     },
     "execution_count": 7,
     "metadata": {},
     "output_type": "execute_result"
    }
   ],
   "source": [
    "url"
   ]
  },
  {
   "cell_type": "code",
   "execution_count": 8,
   "id": "1f40519c",
   "metadata": {},
   "outputs": [],
   "source": [
    "prefix='https://drive.google.com/uc?/export=download&id='"
   ]
  },
  {
   "cell_type": "code",
   "execution_count": 9,
   "id": "c855a507",
   "metadata": {},
   "outputs": [
    {
     "name": "stderr",
     "output_type": "stream",
     "text": [
      "Downloading...\n",
      "From (original): https://drive.google.com/uc?/export=download&id=11OYVSuAQ_lYNHbnoJLzscQqqnkKU1cLh\n",
      "From (redirected): https://drive.google.com/uc?%2Fexport=download&id=11OYVSuAQ_lYNHbnoJLzscQqqnkKU1cLh&confirm=t&uuid=a122bc57-4ec3-4041-b801-22e22d1aacc4\n",
      "To: c:\\Users\\harsh\\OneDrive\\Desktop\\deep learning\\kedney desease classification\\research\\Garbage_Classification.zip\n",
      "100%|██████████| 57.5M/57.5M [00:34<00:00, 1.66MB/s]\n"
     ]
    },
    {
     "data": {
      "text/plain": [
       "'Garbage_Classification.zip'"
      ]
     },
     "execution_count": 9,
     "metadata": {},
     "output_type": "execute_result"
    }
   ],
   "source": [
    "gdown.download(prefix+url,\"Garbage_Classification.zip\")"
   ]
  }
 ],
 "metadata": {
  "kernelspec": {
   "display_name": "Python 3",
   "language": "python",
   "name": "python3"
  },
  "language_info": {
   "codemirror_mode": {
    "name": "ipython",
    "version": 3
   },
   "file_extension": ".py",
   "mimetype": "text/x-python",
   "name": "python",
   "nbconvert_exporter": "python",
   "pygments_lexer": "ipython3",
   "version": "3.10.0"
  }
 },
 "nbformat": 4,
 "nbformat_minor": 5
}
